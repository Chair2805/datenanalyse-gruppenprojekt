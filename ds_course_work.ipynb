{
 "cells": [
  {
   "cell_type": "markdown",
   "id": "6d9faac0",
   "metadata": {},
   "source": [
    "**Data Science - course work**"
   ]
  },
  {
   "cell_type": "code",
   "execution_count": 3,
   "id": "aba56fa2",
   "metadata": {},
   "outputs": [
    {
     "ename": "ModuleNotFoundError",
     "evalue": "No module named 'matplotlib'",
     "output_type": "error",
     "traceback": [
      "\u001b[31m---------------------------------------------------------------------------\u001b[39m",
      "\u001b[31mModuleNotFoundError\u001b[39m                       Traceback (most recent call last)",
      "\u001b[36mCell\u001b[39m\u001b[36m \u001b[39m\u001b[32mIn[3]\u001b[39m\u001b[32m, line 3\u001b[39m\n\u001b[32m      1\u001b[39m \u001b[38;5;28;01mimport\u001b[39;00m\u001b[38;5;250m \u001b[39m\u001b[34;01mpandas\u001b[39;00m\u001b[38;5;250m \u001b[39m\u001b[38;5;28;01mas\u001b[39;00m\u001b[38;5;250m \u001b[39m\u001b[34;01mpd\u001b[39;00m\n\u001b[32m      2\u001b[39m \u001b[38;5;28;01mimport\u001b[39;00m\u001b[38;5;250m \u001b[39m\u001b[34;01mnumpy\u001b[39;00m\u001b[38;5;250m \u001b[39m\u001b[38;5;28;01mas\u001b[39;00m\u001b[38;5;250m \u001b[39m\u001b[34;01mnp\u001b[39;00m\n\u001b[32m----> \u001b[39m\u001b[32m3\u001b[39m \u001b[38;5;28;01mimport\u001b[39;00m\u001b[38;5;250m \u001b[39m\u001b[34;01mmatplotlib\u001b[39;00m\u001b[34;01m.\u001b[39;00m\u001b[34;01mpyplot\u001b[39;00m\u001b[38;5;250m \u001b[39m\u001b[38;5;28;01mas\u001b[39;00m\u001b[38;5;250m \u001b[39m\u001b[34;01mplt\u001b[39;00m\n\u001b[32m      4\u001b[39m \u001b[38;5;28;01mimport\u001b[39;00m\u001b[38;5;250m \u001b[39m\u001b[34;01mseaborn\u001b[39;00m\u001b[38;5;250m \u001b[39m\u001b[38;5;28;01mas\u001b[39;00m\u001b[38;5;250m \u001b[39m\u001b[34;01msns\u001b[39;00m\n\u001b[32m      5\u001b[39m \u001b[38;5;28;01mfrom\u001b[39;00m\u001b[38;5;250m \u001b[39m\u001b[34;01mscipy\u001b[39;00m\u001b[34;01m.\u001b[39;00m\u001b[34;01mstats\u001b[39;00m\u001b[38;5;250m \u001b[39m\u001b[38;5;28;01mimport\u001b[39;00m shapiro, levene\n",
      "\u001b[31mModuleNotFoundError\u001b[39m: No module named 'matplotlib'"
     ]
    }
   ],
   "source": [
    "import pandas as pd\n",
    "import numpy as np\n",
    "import matplotlib.pyplot as plt\n",
    "import seaborn as sns\n",
    "from scipy.stats import shapiro, levene\n",
    "from scipy.stats import mannwhitneyu\n",
    "\n",
    "import sklearn\n",
    "from sklearn.linear_model import LinearRegression\n",
    "from sklearn.preprocessing import StandardScaler\n",
    "from sklearn.model_selection import train_test_split\n",
    "\n",
    "\n",
    "from sklearn.metrics import r2_score # r2 -> goodness of fit in linear regression\n",
    "\n",
    "from sklearn.svm import SVR #support vector regression\n",
    "\n"
   ]
  },
  {
   "cell_type": "markdown",
   "id": "2cd01124",
   "metadata": {},
   "source": [
    "Task 1.2 - Exploratory Data analysis"
   ]
  },
  {
   "cell_type": "code",
   "execution_count": null,
   "id": "40c78989",
   "metadata": {},
   "outputs": [],
   "source": [
    "df_features = pd.read_csv('/Users/chiaraspear/anaconda_projects/datenanalyse-gruppenprojekt/MIT_fingertapping_dataset/MIT_USERS_FEATURES.csv')\n",
    "#change path to where the file is stored\n",
    "\n",
    "df_features.head(10)"
   ]
  },
  {
   "cell_type": "markdown",
   "id": "08eacfee",
   "metadata": {},
   "source": [
    "1.2.1 Boxplot to visualise difference in UPDRS scores for the Healthy and Parkinson’s patients"
   ]
  },
  {
   "cell_type": "code",
   "execution_count": null,
   "id": "8c63563c",
   "metadata": {},
   "outputs": [],
   "source": [
    "healthy_UPDRS = df_features.loc[df_features['Parkinsons'] == False, 'UPDRS']\n",
    "parkinsons_UPDRS = df_features.loc[df_features['Parkinsons'] == True, 'UPDRS']\n",
    "\n",
    "print(f\"Parkinson's mean UPDRS: {parkinsons_UPDRS.mean()}\")\n",
    "print(f\"Healthy mean UPDRS: {healthy_UPDRS.mean()}\")"
   ]
  },
  {
   "cell_type": "code",
   "execution_count": null,
   "id": "0f4eb60e",
   "metadata": {},
   "outputs": [],
   "source": [
    "sns.boxplot(data=df_features, x='Parkinsons', y='UPDRS')\n",
    "\n",
    "plt.title('UPDRS Score by Group', fontsize=14, weight='bold')\n",
    "plt.xlabel('Group', fontsize=12)\n",
    "plt.ylabel('UPDRS', fontsize=12)\n",
    "plt.xticks([0, 1], ['Healthy', \"Parkinson's\"])\n",
    "plt.tight_layout()\n",
    "plt.show()\n",
    "\n"
   ]
  },
  {
   "cell_type": "markdown",
   "id": "c4218a24",
   "metadata": {},
   "source": [
    "1.2.2 Difference UPDRS score Healthy vs Parkinsons - t-test + assumption checks\n",
    "\n",
    "Assumptions for t-test: \n",
    "- normality -> tested with Shapiro-Wilk test\n",
    "- Equal variances -> tested with Levene test\n",
    "- independence -> yes, because each participant only tested once"
   ]
  },
  {
   "cell_type": "code",
   "execution_count": null,
   "id": "60903cf8",
   "metadata": {},
   "outputs": [],
   "source": [
    "# Normality: Shapiro-Wilk test\n",
    "\n",
    "stat_healthy_normality, p_healthy_normality = shapiro(healthy_UPDRS)\n",
    "stat_parkinsons_normality, p_parkinsons_normality = shapiro(parkinsons_UPDRS)\n",
    "\n",
    "print(f\"Healthy group normality p-value: {p_healthy_normality:.3f}\")\n",
    "print(f\"Parkinson's group normality p-value: {p_parkinsons_normality:.3f}\")\n",
    "\n",
    "# Equal variances: Levene test\n",
    "stat_levene, p_levene = levene(healthy_UPDRS, parkinsons_UPDRS)\n",
    "\n",
    "print(f\"Levene’s test p-value: {p_levene:.3f}\")\n"
   ]
  },
  {
   "cell_type": "markdown",
   "id": "e5cf8937",
   "metadata": {},
   "source": [
    "- Results assumption checks: no normality in healthy group + no equal variances -> assumptions for t-test not met \n",
    "- this is why we will use Wilcoxon rank-sum test (also called Mann-Whitney U test) instead -> non-parametric alternative"
   ]
  },
  {
   "cell_type": "code",
   "execution_count": null,
   "id": "97239e05",
   "metadata": {},
   "outputs": [],
   "source": [
    "stat_wilcoxon, p_wilcoxon = mannwhitneyu(healthy_UPDRS, parkinsons_UPDRS)\n",
    "print(f\"Mann-Whitney U test: statistic = {stat_wilcoxon}, p-value = {p_wilcoxon}\")"
   ]
  },
  {
   "cell_type": "code",
   "execution_count": null,
   "id": "91ae28ef",
   "metadata": {},
   "outputs": [],
   "source": [
    "print(\"Healthy UPDRS range:\")\n",
    "print(f\"Min: {healthy_UPDRS.min():.2f}, Max: {healthy_UPDRS.max():.2f}\")\n",
    "\n",
    "print(\"\\nParkinson's UPDRS range:\")\n",
    "print(f\"Min: {parkinsons_UPDRS.min():.2f}, Max: {parkinsons_UPDRS.max():.2f}\")\n"
   ]
  },
  {
   "cell_type": "markdown",
   "id": "cfef85e5",
   "metadata": {},
   "source": [
    "chat GPT: So there’s no overlap at all between the two groups' UPDRS scores. That’s why the Mann-Whitney U statistic is 0.0, and the p-value is basically zero.\n",
    "\n",
    "This result is expected and makes sense:\n",
    "\n",
    "    Every Parkinson’s patient scores higher than every Healthy participant.\n",
    "\n",
    "    The difference is not just statistically significant — it’s absolute in this sample"
   ]
  },
  {
   "cell_type": "markdown",
   "id": "e3c16ad5",
   "metadata": {},
   "source": [
    "1.2.3 Correlations of all feature variables"
   ]
  },
  {
   "cell_type": "code",
   "execution_count": null,
   "id": "d2757052",
   "metadata": {},
   "outputs": [],
   "source": [
    "features_only_df = df_features.drop(columns=['ID', 'Parkinsons'])\n",
    "sns.pairplot(features_only_df, corner=True)\n",
    "plt.suptitle('Pairplot of Feature Variables')\n",
    "plt.show()"
   ]
  },
  {
   "cell_type": "markdown",
   "id": "38218e8c",
   "metadata": {},
   "source": [
    "this is a lot -> hard to visually analyse -> additionally: correlation heatmap"
   ]
  },
  {
   "cell_type": "code",
   "execution_count": null,
   "id": "423fe84d",
   "metadata": {},
   "outputs": [],
   "source": [
    "corr = features_only_df.corr()                                          # Computes the Pearson correlation coefficient between all pairs \n",
    "sns.heatmap(corr, cmap='coolwarm')\n",
    "plt.title('Correlation Heatmap of Feature Variables')\n",
    "plt.show()"
   ]
  },
  {
   "cell_type": "markdown",
   "id": "69b0cdfa",
   "metadata": {},
   "source": [
    "**2.1 Linear Regression of Feautures against UPDRS score**"
   ]
  },
  {
   "cell_type": "markdown",
   "id": "786eda8b",
   "metadata": {},
   "source": [
    "2.1.1- Perform a linear regression of the feature variables against UPDRS score.Don’t forget to split your data into training and testing appropriately!"
   ]
  },
  {
   "cell_type": "code",
   "execution_count": null,
   "id": "743e2768",
   "metadata": {},
   "outputs": [],
   "source": [
    "# lets clean the data before splitting into independent and dependent variables\n",
    "# do we have any nan values?\n",
    "\n",
    "features_only_df.isna().any(axis=0) # features_only_df = feature matrix"
   ]
  },
  {
   "cell_type": "markdown",
   "id": "015a78ac",
   "metadata": {},
   "source": [
    "-> no NaN data"
   ]
  },
  {
   "cell_type": "code",
   "execution_count": null,
   "id": "0d524331",
   "metadata": {},
   "outputs": [],
   "source": [
    "# dependent variable y =  UPDRS (predicted)\n",
    "y = features_only_df['UPDRS']\n",
    "\n",
    "# predictors = all other feature variables \n",
    "x = features_only_df.drop(columns=['UPDRS'])\n",
    "\n",
    "# train test split your data with a test size of 30% of your data\n",
    "# helpful tip for this dataset only - set the random state argument to random_state=6 (makes it reproducable - everytime same distribution)\n",
    "x_train, x_test, y_train, y_test = train_test_split(x, y, test_size=0.3, random_state = 6 )\n",
    "\n",
    "#scaling\n",
    "scaler = StandardScaler()\n",
    "x_train_scaled = scaler.fit_transform(x_train)\n",
    "x_test_scaled = scaler.transform(x_test)\n",
    "\n",
    "# train a linear regression model on the train data\n",
    "model = LinearRegression()\n",
    "model.fit(x_train_scaled, y_train)\n",
    "\n",
    "# now predict for your test values\n",
    "y_test_prediction = model.predict(x_test_scaled)\n"
   ]
  },
  {
   "cell_type": "markdown",
   "id": "cd9847db",
   "metadata": {},
   "source": [
    " 2.1.2- Which features display the strongest relationship? What are their coefficients? Use an\n",
    " appropriate measure to define the goodness of fit."
   ]
  },
  {
   "cell_type": "code",
   "execution_count": null,
   "id": "b5935e33",
   "metadata": {},
   "outputs": [],
   "source": [
    "# R² (Goodness of Fit)\n",
    "r2 = r2_score(y_test, y_test_prediction)\n",
    "print(r2)"
   ]
  },
  {
   "cell_type": "markdown",
   "id": "3250459a",
   "metadata": {},
   "source": [
    "chatgpt: Negative values → model performs worse than predicting the mean\n",
    "\n",
    "-> zusammenhang wahrscheinlich nicht linear"
   ]
  },
  {
   "cell_type": "code",
   "execution_count": null,
   "id": "96a82f96",
   "metadata": {},
   "outputs": [],
   "source": [
    "# what are our coefficients for  the intercept? \n",
    "print(model.intercept_)\n"
   ]
  },
  {
   "cell_type": "code",
   "execution_count": null,
   "id": "b69686d3",
   "metadata": {},
   "outputs": [],
   "source": [
    "# what are our coefficients for each feature? (beta for x)    \n",
    "coefficients = pd.Series(model.coef_, index=x.columns)\n",
    "print(coefficients.sort_values(ascending=False))"
   ]
  },
  {
   "cell_type": "code",
   "execution_count": null,
   "id": "9408fc72",
   "metadata": {},
   "outputs": [],
   "source": [
    "# strongest features (absolute value)\n",
    "strongest_features = coefficients.abs().sort_values(ascending=False)\n",
    "print(strongest_features.head())"
   ]
  },
  {
   "cell_type": "markdown",
   "id": "98c6ce5c",
   "metadata": {},
   "source": [
    "**2.2 Non-linear regression of features against UPDRS score (15 marks)**"
   ]
  },
  {
   "cell_type": "markdown",
   "id": "1b0f78b5",
   "metadata": {},
   "source": [
    "2.2.1- Perform a non-linear regression of the feature variables against UPDRS score, using a support vector machine. Don’t forget to split your data into training and testing appropriately!"
   ]
  },
  {
   "cell_type": "code",
   "execution_count": null,
   "id": "a79fbd69",
   "metadata": {},
   "outputs": [],
   "source": [
    "# (difference to class: support vector regressor instead of classifier)\n",
    "\n",
    "# we can reuse the train test split and the scaling from before (linear regression)\n",
    "\n",
    "# Create SVR model - RBF kernel (Radial Basis Function) -> non-linear\n",
    "svm = SVR(kernel='rbf')\n",
    "\n",
    "# Train on scaled training data\n",
    "svm.fit(x_train_scaled, y_train)\n",
    "\n",
    "# Predict on scaled test data\n",
    "y_test_pred_svm = svm.predict(x_test_scaled)"
   ]
  },
  {
   "cell_type": "code",
   "execution_count": null,
   "id": "fc0c2415",
   "metadata": {},
   "outputs": [],
   "source": [
    "# Evaluate: R² (Goodness of Fit)\n",
    "r2_svm = r2_score(y_test, y_test_pred_svm)\n",
    "print(r2_svm)\n"
   ]
  },
  {
   "cell_type": "markdown",
   "id": "8a906a31",
   "metadata": {},
   "source": [
    " 2.2.2-  Compare and contrast your results with the linear regression."
   ]
  },
  {
   "cell_type": "markdown",
   "id": "80a66358",
   "metadata": {},
   "source": [
    "-> way better than linear regression (see different R2 scores)"
   ]
  },
  {
   "cell_type": "markdown",
   "id": "084bc51f",
   "metadata": {},
   "source": [
    "Task 3\n"
   ]
  },
  {
   "cell_type": "code",
   "execution_count": 13,
   "id": "c6d28bb8",
   "metadata": {},
   "outputs": [
    {
     "name": "stdout",
     "output_type": "stream",
     "text": [
      "   ID  Parkinsons  median_flight_time  std_flight_time  median_hold_time  \\\n",
      "0  11        True               142.9       184.584488              93.9   \n",
      "1  60       False               529.0       837.476992             122.9   \n",
      "2  67        True               476.5      1154.993782             179.2   \n",
      "3  68       False               361.6       823.429272             151.0   \n",
      "4  70        True               617.7      1434.028934             179.7   \n",
      "\n",
      "   std_hold_time  std_binned_flight_time  std_binned_hold_time  hand_symmetry  \\\n",
      "0      44.440760                4.693407              1.739548          848.0   \n",
      "1      37.994156               66.097678              4.373105          239.0   \n",
      "2      77.017094               81.909059             13.111766          248.0   \n",
      "3      25.416287               39.183555              2.243013          301.0   \n",
      "4      42.075270              147.909365              7.374355          140.0   \n",
      "\n",
      "   mean_flight_symmetry  mean_hold_symmetry  std_flight_symmetry  \\\n",
      "0             52.885633           61.061132            96.076974   \n",
      "1             43.619230           36.612143            39.990040   \n",
      "2            175.433172           79.949188           116.865281   \n",
      "3              8.972104           24.656048           133.634322   \n",
      "4            526.441293           26.459183           487.008181   \n",
      "\n",
      "   std_hold_symmetry  mean_flight_direction_symmetry  \\\n",
      "0          29.838731                       19.291014   \n",
      "1           3.831410                       94.939998   \n",
      "2          55.498010                      153.803039   \n",
      "3           3.897480                       47.494213   \n",
      "4           7.729029                      469.763131   \n",
      "\n",
      "   std_flight_direction_symmetry  mean_hold_direction_symmetry  \\\n",
      "0                      69.417942                     57.643646   \n",
      "1                      60.961730                     34.278162   \n",
      "2                     153.083905                     80.864519   \n",
      "3                     127.453713                     24.601185   \n",
      "4                     442.845315                     23.158001   \n",
      "\n",
      "   std_hold_direction_symmetry  \n",
      "0                    27.413833  \n",
      "1                     4.200481  \n",
      "2                    56.822530  \n",
      "3                     4.848499  \n",
      "4                     4.802304  \n",
      "Test Accuracy: 0.94\n",
      "Mean CV Accuracy: 0.78\n"
     ]
    },
    {
     "data": {
      "image/png": "[encoded data removed]",
      "text/plain": [
       "<Figure size 640x480 with 2 Axes>"
      ]
     },
     "metadata": {},
     "output_type": "display_data"
    },
    {
     "data": {
      "image/png": "[encoded data removed]",
      "text/plain": [
       "<Figure size 640x480 with 1 Axes>"
      ]
     },
     "metadata": {},
     "output_type": "display_data"
    }
   ],
   "source": [
    "# Bibliotheken importieren\n",
    "import pandas as pd\n",
    "import numpy as np\n",
    "from sklearn.model_selection import train_test_split, cross_val_score\n",
    "from sklearn.preprocessing import LabelEncoder, StandardScaler\n",
    "from sklearn.linear_model import LogisticRegression\n",
    "from sklearn.metrics import accuracy_score, confusion_matrix, classification_report\n",
    "import seaborn as sns\n",
    "import matplotlib.pyplot as plt\n",
    "\n",
    "# Daten laden\n",
    "data = pd.read_csv(\"/Users/ronny/Downloads/MIT_fingertapping_dataset/MIT_USERS_FEATURES.csv\")  # Pfad anpassen\n",
    "\n",
    "#data = data[~data.group.isin(['UPDRS'])]\n",
    "data = data.drop(columns=['UPDRS'])\n",
    "\n",
    "data = data.reset_index(drop=True)\n",
    "\n",
    "#labels, label_names = pd.factorize(data['group'])\n",
    "\n",
    "#data['group'] = labels\n",
    "\n",
    "y = data[\"Parkinsons\"]\n",
    "X = data.drop(columns=[\"Parkinsons\"])\n",
    "\n",
    "# Daten anschauen\n",
    "print(data.head())\n",
    "\n",
    "# Features standardisieren\n",
    "scaler = StandardScaler()\n",
    "X_scaled = scaler.fit_transform(X)\n",
    "\n",
    "# Daten splitten (Train/Test)\n",
    "X_train, X_test, y_train, y_test = train_test_split(X_scaled, y, test_size=0.2, random_state=42, stratify=y)\n",
    "\n",
    "# Logistic Regression Modell erstellen\n",
    "model = LogisticRegression(max_iter=1000)\n",
    "model.fit(X_train, y_train)\n",
    "\n",
    "# Vorhersagen\n",
    "y_pred = model.predict(X_test)\n",
    "\n",
    "# Accuracy berechnen\n",
    "accuracy = accuracy_score(y_test, y_pred)\n",
    "print(f\"Test Accuracy: {accuracy:.2f}\")\n",
    "\n",
    "# Cross-Validation Accuracy\n",
    "cv_scores = cross_val_score(model, X_scaled, y, cv=5)\n",
    "print(f\"Mean CV Accuracy: {cv_scores.mean():.2f}\")\n",
    "\n",
    "# Confusion Matrix visualisieren\n",
    "cm = confusion_matrix(y_test, y_pred)\n",
    "sns.heatmap(cm, annot=True, fmt='d', cmap='Blues')\n",
    "plt.xlabel('Predicted')\n",
    "plt.ylabel('Actual')\n",
    "plt.title('Confusion Matrix')\n",
    "plt.show()\n",
    "\n",
    "# Optional: ROC Curve visualisieren\n",
    "from sklearn.metrics import roc_curve, auc\n",
    "\n",
    "y_prob = model.predict_proba(X_test)[:, 1]\n",
    "fpr, tpr, thresholds = roc_curve(y_test, y_prob)\n",
    "roc_auc = auc(fpr, tpr)\n",
    "\n",
    "plt.figure()\n",
    "plt.plot(fpr, tpr, label=f'ROC curve (area = {roc_auc:.2f})')\n",
    "plt.plot([0, 1], [0, 1], 'k--')\n",
    "plt.xlabel('False Positive Rate')\n",
    "plt.ylabel('True Positive Rate')\n",
    "plt.title('ROC Curve')\n",
    "plt.legend(loc='lower right')\n",
    "plt.show()\n"
   ]
  },
  {
   "cell_type": "code",
   "execution_count": 18,
   "id": "25a9569a",
   "metadata": {},
   "outputs": [
    {
     "name": "stdout",
     "output_type": "stream",
     "text": [
      "Test Accuracy (SVC): 0.82\n",
      "Mean CV Accuracy (SVC): 0.74\n"
     ]
    },
    {
     "data": {
      "image/png": "[encoded data removed]",
      "text/plain": [
       "<Figure size 640x480 with 2 Axes>"
      ]
     },
     "metadata": {},
     "output_type": "display_data"
    },
    {
     "data": {
      "image/png": "[encoded data removed]",
      "text/plain": [
       "<Figure size 640x480 with 1 Axes>"
      ]
     },
     "metadata": {},
     "output_type": "display_data"
    }
   ],
   "source": [
    "# Bibliotheken importieren\n",
    "import pandas as pd\n",
    "import numpy as np\n",
    "from sklearn.model_selection import train_test_split, cross_val_score\n",
    "from sklearn.preprocessing import StandardScaler\n",
    "from sklearn.svm import SVC\n",
    "from sklearn.metrics import accuracy_score, confusion_matrix, classification_report, roc_curve, auc\n",
    "import seaborn as sns\n",
    "import matplotlib.pyplot as plt\n",
    "\n",
    "# Daten laden\n",
    "data = pd.read_csv(\"/Users/ronny/Downloads/MIT_fingertapping_dataset/MIT_USERS_FEATURES.csv\")  # Pfad anpassen\n",
    "\n",
    "# Falls 'UPDRS' enthalten ist -> löschen\n",
    "if \"UPDRS\" in data.columns:\n",
    "    data = data.drop(columns=['UPDRS'])\n",
    "\n",
    "data = data.reset_index(drop=True)\n",
    "\n",
    "# Zielvariable und Features definieren\n",
    "y = data[\"Parkinsons\"]\n",
    "X = data.drop(columns=[\"Parkinsons\"])\n",
    "\n",
    "# Features standardisieren\n",
    "scaler = StandardScaler()\n",
    "X_scaled = scaler.fit_transform(X)\n",
    "\n",
    "# Daten splitten (Train/Test)\n",
    "X_train, X_test, y_train, y_test = train_test_split(\n",
    "    X_scaled, y, test_size=0.2, random_state=42, stratify=y\n",
    ")\n",
    "\n",
    "# Support Vector Classifier Modell erstellen (mit Wahrscheinlichkeitsausgabe für ROC)\n",
    "svc = SVC(kernel=\"rbf\", probability=True, random_state=42)\n",
    "svc.fit(X_train, y_train)\n",
    "\n",
    "# Vorhersagen\n",
    "y_pred = svc.predict(X_test)\n",
    "\n",
    "# Accuracy berechnen\n",
    "accuracy = accuracy_score(y_test, y_pred)\n",
    "print(f\"Test Accuracy (SVC): {accuracy:.2f}\")\n",
    "\n",
    "# Cross-Validation Accuracy\n",
    "cv_scores = cross_val_score(svc, X_scaled, y, cv=5)\n",
    "print(f\"Mean CV Accuracy (SVC): {cv_scores.mean():.2f}\")\n",
    "\n",
    "# Confusion Matrix visualisieren\n",
    "cm = confusion_matrix(y_test, y_pred)\n",
    "sns.heatmap(cm, annot=True, fmt='d', cmap='Blues')\n",
    "plt.xlabel(\"Predicted\")\n",
    "plt.ylabel(\"Actual\")\n",
    "plt.title(\"Confusion Matrix (SVC)\")\n",
    "plt.show()\n",
    "\n",
    "# ROC Curve visualisieren\n",
    "y_prob = svc.predict_proba(X_test)[:, 1]\n",
    "fpr, tpr, thresholds = roc_curve(y_test, y_prob)\n",
    "roc_auc = auc(fpr, tpr)\n",
    "\n",
    "plt.figure()\n",
    "plt.plot(fpr, tpr, label=f\"SVC ROC curve (area = {roc_auc:.2f})\")\n",
    "plt.plot([0, 1], [0, 1], \"k--\")\n",
    "plt.xlabel(\"False Positive Rate\")\n",
    "plt.ylabel(\"True Positive Rate\")\n",
    "plt.title(\"ROC Curve (SVC)\")\n",
    "plt.legend(loc=\"lower right\")\n",
    "plt.show()\n"
   ]
  },
  {
   "cell_type": "code",
   "execution_count": 20,
   "id": "6399ced2",
   "metadata": {},
   "outputs": [
    {
     "name": "stdout",
     "output_type": "stream",
     "text": [
      "Logistic Regression PCA Accuracy: 0.8823529411764706\n",
      "SVC PCA Accuracy: 0.8235294117647058\n"
     ]
    }
   ],
   "source": [
    "from sklearn.decomposition import PCA\n",
    "\n",
    "# PCA Reduktion auf 10 Dimensionen\n",
    "pca = PCA(n_components=10)\n",
    "X_pca = pca.fit_transform(X_scaled)\n",
    "\n",
    "# Splitten\n",
    "X_train_pca, X_test_pca, y_train, y_test = train_test_split(\n",
    "    X_pca, y, test_size=0.2, random_state=42, stratify=y\n",
    ")\n",
    "\n",
    "# Logistic Regression auf PCA-Daten\n",
    "log_reg_pca = LogisticRegression(max_iter=1000)\n",
    "log_reg_pca.fit(X_train_pca, y_train)\n",
    "y_pred_pca = log_reg_pca.predict(X_test_pca)\n",
    "print(\"Logistic Regression PCA Accuracy:\", accuracy_score(y_test, y_pred_pca))\n",
    "\n",
    "# Support Vector Classifier auf PCA-Daten\n",
    "svc_pca = SVC(kernel=\"rbf\", probability=True, random_state=42)\n",
    "svc_pca.fit(X_train_pca, y_train)\n",
    "y_pred_svc_pca = svc_pca.predict(X_test_pca)\n",
    "print(\"SVC PCA Accuracy:\", accuracy_score(y_test, y_pred_svc_pca))\n"
   ]
  }
 ],
 "metadata": {
  "kernelspec": {
   "display_name": "ds-course",
   "language": "python",
   "name": "python3"
  },
  "language_info": {
   "codemirror_mode": {
    "name": "ipython",
    "version": 3
   },
   "file_extension": ".py",
   "mimetype": "text/x-python",
   "name": "python",
   "nbconvert_exporter": "python",
   "pygments_lexer": "ipython3",
   "version": "3.11.13"
  }
 },
 "nbformat": 4,
 "nbformat_minor": 5
}
